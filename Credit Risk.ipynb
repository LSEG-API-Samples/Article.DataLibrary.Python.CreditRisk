{
 "cells": [
  {
   "cell_type": "markdown",
   "metadata": {},
   "source": [
    "# Understand and Retrieve your portfolio's credit risk exposures\n",
    "\n",
    "## Overview\n",
    "A UK based food manufacturer has excess cash and has set up its own fund to invest into equities and shares. For reporting purposes, this company wants to know for each position in their 15 portfolios, what is its credit exposure? By knowing the price of the [CDS 5Y](https://www.investopedia.com/terms/c/creditdefaultswap.asp), the food manufacturer can determine how much they have to pay to offset the credit risk associated to an instrument within a portfolio. When utilizing Refinitiv's desktop Portfolio management tools, users have access to a powerful suite of details.  Unfortunately, the credit exposure information is neither available directly within the portfolio nor in any templates of the portfolio reporting tool.\n",
    "\n",
    "Does that mean it’s not possible to provide this information when the CDS 5Y price is quoted by Refinitiv? Absolutely not! In this article, we will describe how to leverage Python to enrich the portfolio details with the credit risk exposures.\n",
    "\n",
    "## Getting Started\n",
    "The following notebook utilizes our Porfolio Analytics desktop capabilities to review and assess your issuer level and portolios' credit risk exposure. Refinitiv's extensive content set, coupled with our [Refinitiv Data Libraries](https://developers.refinitiv.com/en/api-catalog/refinitiv-data-platform/refinitiv-data-library-for-python) offers a simple mechanism to retrieve your portfolio details and retrieve current pricing data used to generate desired results.\n",
    "\n",
    "For convienience, the workflow generates output in an Excel sheet containing the results of our analysis.\n",
    "\n",
    "#### Learn more\n",
    "\n",
    "> To learn more about the Refinitiv Data Library for Python please join the Refinitiv Developer Community. By [registering](https://developers.refinitiv.com/iam/register) and [logging](https://developers.refinitiv.com/content/devportal/en_us/initCookie.html) into the Refinitiv Developer Community portal you will have free access to a number of learning materials like \n",
    " [Quick Start guides](https://developers.refinitiv.com/en/api-catalog/refinitiv-data-platform/refinitiv-data-library-for-python/quick-start), \n",
    " [Tutorials](https://developers.refinitiv.com/en/api-catalog/refinitiv-data-platform/refinitiv-data-library-for-python/learning), \n",
    " [Documentation](https://developers.refinitiv.com/en/api-catalog/refinitiv-data-platform/refinitiv-data-library-for-python/docs)\n",
    " and much more.\n",
    "\n",
    "#### Getting Help and Support\n",
    "\n",
    "> If you have any questions regarding using the API, please post them on \n",
    "the [Refinitiv Data Q&A Forum](https://community.developers.refinitiv.com/spaces/321/index.html). \n",
    "The Refinitiv Developer Community will be happy to help. "
   ]
  },
  {
   "cell_type": "markdown",
   "metadata": {},
   "source": [
    "## Some Imports to start with"
   ]
  },
  {
   "cell_type": "code",
   "execution_count": 4,
   "metadata": {},
   "outputs": [
    {
     "data": {
      "text/plain": [
       "'1.0.0b27'"
      ]
     },
     "execution_count": 4,
     "metadata": {},
     "output_type": "execute_result"
    }
   ],
   "source": [
    "# The Refinitiv Data Library for Python\n",
    "import refinitiv.data as rd\n",
    "\n",
    "# Popular container/dataframe to capture and minipulate data we extract\n",
    "import pandas as pd\n",
    "\n",
    "# Some basic UI\n",
    "from refinitiv_widgets import Checkbox\n",
    "from refinitiv_widgets import ProgressBar\n",
    "\n",
    "rd.__version__"
   ]
  },
  {
   "cell_type": "code",
   "execution_count": 5,
   "metadata": {},
   "outputs": [],
   "source": [
    "# Uncomment the following to see a larger data set when displaying a dataframe to the screen.\n",
    "#pd.set_option('display.max_rows', None)\n",
    "#pd.set_option('display.max_columns', None)"
   ]
  },
  {
   "cell_type": "markdown",
   "metadata": {
    "tags": []
   },
   "source": [
    "## Open the data session\n",
    "\n",
    "The open_session() function establishes a data session to retrieve our content within the desktop.\n",
    "\n",
    "> Note: A desktop session is intentionally defined here to take advantage of some convenient capabilities within the desktop application, such as the ability to use the Portfolio & Lists Manager (PAL) feature."
   ]
  },
  {
   "cell_type": "code",
   "execution_count": 6,
   "metadata": {
    "tags": []
   },
   "outputs": [
    {
     "data": {
      "text/plain": [
       "<refinitiv.data.session.Definition object at 0x7f5444851df0 {name='codebook'}>"
      ]
     },
     "execution_count": 6,
     "metadata": {},
     "output_type": "execute_result"
    }
   ],
   "source": [
    "rd.open_session()"
   ]
  },
  {
   "cell_type": "markdown",
   "metadata": {
    "tags": []
   },
   "source": [
    "## Code Setup\n",
    "\n",
    "It's usually best practice to define constants that are potentially used through the coding segments within your notebook.  A constant is a special type of variable whose value cannot be changed. Using a constant in a script improves its readability, its reusability and its maintainability."
   ]
  },
  {
   "cell_type": "code",
   "execution_count": 7,
   "metadata": {
    "tags": []
   },
   "outputs": [],
   "source": [
    "# Maximum number of items a request to get data can retrieve\n",
    "MAX_ITEMS_PER_REQUEST = 10000\n",
    "\n",
    "# Fields to request\n",
    "PORTFOLIO_NAME_FLD = \"TR.PortfolioName\"\n",
    "PORTFOLIO_CONSTITUENTS_FLD = \"TR.PortfolioConstituentName\"\n",
    "PORTFOLIO_SHARES_FLD = \"TR.PortfolioShares\"\n",
    "ASSET_CATEGORY_FLD = \"TR.AssetCategory\"\n",
    "CDS_PRIMARY_RIC_FLD = \"TR.CDSPrimaryCDSRic\"\n",
    "\n",
    "# Some columns used below by the dataframe\n",
    "ASSET_CATEGORY_COL = \"Asset Category Description\"\n",
    "PRIMARY_CDS_RIC_COL = \"Primary CDS RIC\"\n",
    "CLOSE_PRICE_COL = \"Close Price\"\n",
    "\n",
    "# Price data\n",
    "HISTORICAL_CLOSE = \"HST_CLOSE\""
   ]
  },
  {
   "cell_type": "markdown",
   "metadata": {},
   "source": [
    "## Portfolio Definition\n",
    "At the heart of the following workflow is the ability for users to evaluate their portfolios to determine the credit exposure. For simplicity, we are going to use a pre-built portfolio defining the list of instruments that can be used within our analysis.  \n",
    "\n",
    "> Note: Users can define their own portfolios by utilizing the power and capabilities of the Portfolio & List Manager service within the desktop.\n",
    "\n",
    "The following fields are requested to provide a breakdown of the constituents within the portfolio:\n",
    "1.\t<pre>The Name of the Portfolio                        <b>[TR.PortfolioName]</b></pre>\n",
    "2.\t<pre>The issuer Name of the Constituents in Portfolio <b>[TR.PortfolioConstituentName]</b></pre>\n",
    "3.\t<pre>The Number of units of portfolio constituent     <b>[TR.PortfolioShares]</b></pre>\n",
    "4.\t<pre>The full description of the asset category       <b>[TR.AssetCategory]</b></pre>\n",
    "5.\t<pre>The primary CDS RIC for this reference entity    <b>[TR.CDSPrimaryCDSRic]</b></pre>\n",
    "\n",
    "The 'TR.CDSPrimaryCDSRic' field represents the fundamental data field defing the RIC (Refinitiv Identification Code) of the 5-year Credit Default Swap (CDS 5Y). This field is important for portfolio managers as it allows them to monitor how much credit exposure they have on the securities they are placing their bets on."
   ]
  },
  {
   "cell_type": "markdown",
   "metadata": {
    "tags": []
   },
   "source": [
    "### The id of the portfolio."
   ]
  },
  {
   "cell_type": "code",
   "execution_count": 8,
   "metadata": {},
   "outputs": [],
   "source": [
    "# The id of the portfolio as defined within the desktop (Eikon/Refinitiv Workspace)\n",
    "portfolio_id = \"SAMPLE_EU_DEV_FI\""
   ]
  },
  {
   "cell_type": "markdown",
   "metadata": {
    "tags": []
   },
   "source": [
    "### Load the portfolio data...\n",
    "The <i>Refinitiv Data Library for Python</i> utilizes the 'Portfolio()' syntax to extract and pull multiple attributes specific to the referenced portfolio, in particular, the credit risk instrument."
   ]
  },
  {
   "cell_type": "code",
   "execution_count": 9,
   "metadata": {},
   "outputs": [],
   "source": [
    "# Open the portfolio.  Define the list of fields required for our analysis\n",
    "portfolio_columns = [PORTFOLIO_NAME_FLD,PORTFOLIO_CONSTITUENTS_FLD,PORTFOLIO_SHARES_FLD,ASSET_CATEGORY_FLD,CDS_PRIMARY_RIC_FLD]\n",
    "\n",
    "portfolio = f\"Portfolio({portfolio_id})\"\n",
    "df = rd.get_data(portfolio, portfolio_columns)\n",
    "if \"Instrument\" not in df.columns:\n",
    "    print(f\"Impossible to open the portfolio {portfolio_id}.\")"
   ]
  },
  {
   "cell_type": "code",
   "execution_count": 10,
   "metadata": {},
   "outputs": [
    {
     "data": {
      "text/html": [
       "<div>\n",
       "<style scoped>\n",
       "    .dataframe tbody tr th:only-of-type {\n",
       "        vertical-align: middle;\n",
       "    }\n",
       "\n",
       "    .dataframe tbody tr th {\n",
       "        vertical-align: top;\n",
       "    }\n",
       "\n",
       "    .dataframe thead th {\n",
       "        text-align: right;\n",
       "    }\n",
       "</style>\n",
       "<table border=\"1\" class=\"dataframe\">\n",
       "  <thead>\n",
       "    <tr style=\"text-align: right;\">\n",
       "      <th></th>\n",
       "      <th>Instrument</th>\n",
       "      <th>Portfolio Name</th>\n",
       "      <th>Issuer Name</th>\n",
       "      <th>Portfolio Shares</th>\n",
       "      <th>Asset Category Description</th>\n",
       "      <th>Primary CDS RIC</th>\n",
       "    </tr>\n",
       "  </thead>\n",
       "  <tbody>\n",
       "    <tr>\n",
       "      <th>0</th>\n",
       "      <td>.ONECHF</td>\n",
       "      <td>EUROPE DEVELOPED WITH FIXED INC</td>\n",
       "      <td>Swiss Franc</td>\n",
       "      <td>45872.0</td>\n",
       "      <td></td>\n",
       "      <td>&lt;NA&gt;</td>\n",
       "    </tr>\n",
       "    <tr>\n",
       "      <th>1</th>\n",
       "      <td>.ONEUKP</td>\n",
       "      <td>EUROPE DEVELOPED WITH FIXED INC</td>\n",
       "      <td>U K Pound</td>\n",
       "      <td>37265.0</td>\n",
       "      <td></td>\n",
       "      <td>&lt;NA&gt;</td>\n",
       "    </tr>\n",
       "    <tr>\n",
       "      <th>2</th>\n",
       "      <td>.ONEUSD</td>\n",
       "      <td>EUROPE DEVELOPED WITH FIXED INC</td>\n",
       "      <td>U S Dollar</td>\n",
       "      <td>50000.0</td>\n",
       "      <td></td>\n",
       "      <td>&lt;NA&gt;</td>\n",
       "    </tr>\n",
       "    <tr>\n",
       "      <th>3</th>\n",
       "      <td>.ONEEUR</td>\n",
       "      <td>EUROPE DEVELOPED WITH FIXED INC</td>\n",
       "      <td>Euro</td>\n",
       "      <td>44516.0</td>\n",
       "      <td></td>\n",
       "      <td>&lt;NA&gt;</td>\n",
       "    </tr>\n",
       "    <tr>\n",
       "      <th>4</th>\n",
       "      <td>SOF.BR</td>\n",
       "      <td>EUROPE DEVELOPED WITH FIXED INC</td>\n",
       "      <td>SOFINA SA</td>\n",
       "      <td>27200.0</td>\n",
       "      <td>Ordinary Share</td>\n",
       "      <td></td>\n",
       "    </tr>\n",
       "    <tr>\n",
       "      <th>5</th>\n",
       "      <td>MAERSKb.CO</td>\n",
       "      <td>EUROPE DEVELOPED WITH FIXED INC</td>\n",
       "      <td>AP MOELLER - MAERSK A/S</td>\n",
       "      <td>1700.0</td>\n",
       "      <td>Ordinary Share</td>\n",
       "      <td>MAER5YEUAM=R</td>\n",
       "    </tr>\n",
       "    <tr>\n",
       "      <th>6</th>\n",
       "      <td>DSV.CO</td>\n",
       "      <td>EUROPE DEVELOPED WITH FIXED INC</td>\n",
       "      <td>DSV A/S</td>\n",
       "      <td>140800.0</td>\n",
       "      <td>Ordinary Share</td>\n",
       "      <td></td>\n",
       "    </tr>\n",
       "    <tr>\n",
       "      <th>7</th>\n",
       "      <td>DEMANT.CO</td>\n",
       "      <td>EUROPE DEVELOPED WITH FIXED INC</td>\n",
       "      <td>DEMANT A/S</td>\n",
       "      <td>202600.0</td>\n",
       "      <td>Ordinary Share</td>\n",
       "      <td></td>\n",
       "    </tr>\n",
       "    <tr>\n",
       "      <th>8</th>\n",
       "      <td>GN.CO</td>\n",
       "      <td>EUROPE DEVELOPED WITH FIXED INC</td>\n",
       "      <td>GN STORE NORD A/S</td>\n",
       "      <td>135600.0</td>\n",
       "      <td>Ordinary Share</td>\n",
       "      <td></td>\n",
       "    </tr>\n",
       "    <tr>\n",
       "      <th>9</th>\n",
       "      <td>CAPP.PA</td>\n",
       "      <td>EUROPE DEVELOPED WITH FIXED INC</td>\n",
       "      <td>CAPGEMINI SE</td>\n",
       "      <td>125200.0</td>\n",
       "      <td>Ordinary Share</td>\n",
       "      <td>CPGM5YEUAM=R</td>\n",
       "    </tr>\n",
       "  </tbody>\n",
       "</table>\n",
       "</div>"
      ],
      "text/plain": [
       "   Instrument                   Portfolio Name              Issuer Name  \\\n",
       "0     .ONECHF  EUROPE DEVELOPED WITH FIXED INC              Swiss Franc   \n",
       "1     .ONEUKP  EUROPE DEVELOPED WITH FIXED INC                U K Pound   \n",
       "2     .ONEUSD  EUROPE DEVELOPED WITH FIXED INC               U S Dollar   \n",
       "3     .ONEEUR  EUROPE DEVELOPED WITH FIXED INC                     Euro   \n",
       "4      SOF.BR  EUROPE DEVELOPED WITH FIXED INC                SOFINA SA   \n",
       "5  MAERSKb.CO  EUROPE DEVELOPED WITH FIXED INC  AP MOELLER - MAERSK A/S   \n",
       "6      DSV.CO  EUROPE DEVELOPED WITH FIXED INC                  DSV A/S   \n",
       "7   DEMANT.CO  EUROPE DEVELOPED WITH FIXED INC               DEMANT A/S   \n",
       "8       GN.CO  EUROPE DEVELOPED WITH FIXED INC        GN STORE NORD A/S   \n",
       "9     CAPP.PA  EUROPE DEVELOPED WITH FIXED INC             CAPGEMINI SE   \n",
       "\n",
       "   Portfolio Shares Asset Category Description Primary CDS RIC  \n",
       "0           45872.0                                       <NA>  \n",
       "1           37265.0                                       <NA>  \n",
       "2           50000.0                                       <NA>  \n",
       "3           44516.0                                       <NA>  \n",
       "4           27200.0             Ordinary Share                  \n",
       "5            1700.0             Ordinary Share    MAER5YEUAM=R  \n",
       "6          140800.0             Ordinary Share                  \n",
       "7          202600.0             Ordinary Share                  \n",
       "8          135600.0             Ordinary Share                  \n",
       "9          125200.0             Ordinary Share    CPGM5YEUAM=R  "
      ]
     },
     "execution_count": 10,
     "metadata": {},
     "output_type": "execute_result"
    }
   ],
   "source": [
    "# Display some of the data...\n",
    "df.head(10)"
   ]
  },
  {
   "cell_type": "markdown",
   "metadata": {
    "tags": []
   },
   "source": [
    "### Data Cleansing\n",
    "In some cases, the referenced portfolio of instruments may include entries not related to CDS-based positions.  As such, we'll need to clean the data by removing all unrelated entries.  Specifically, the rows where the Primary CDS RIC cell is unavailable, i.e. missing values or values filled with <b>&lt;NA&gt;</b>.\n",
    "\n",
    "For example, the above display shows the first 10 positions within our portfolio where a number of them contain missing values for the Primary CDS RIC.  We are only interested in the positions where a valid RIC is present."
   ]
  },
  {
   "cell_type": "code",
   "execution_count": 11,
   "metadata": {},
   "outputs": [],
   "source": [
    "# Remove all rows/entries where we are missing relevant data.  \n",
    "# To simplify this, we'll first ensure blank values contain <NA>.\n",
    "df[ASSET_CATEGORY_COL] = df[ASSET_CATEGORY_COL].replace('', pd.NaT)\n",
    "df[PRIMARY_CDS_RIC_COL] = df[PRIMARY_CDS_RIC_COL].replace('', pd.NaT)\n",
    "\n",
    "# Now we can simply remove all rows where the following columns contain <NA>\n",
    "df = df.dropna(subset=[ASSET_CATEGORY_COL, PRIMARY_CDS_RIC_COL], axis=0)"
   ]
  },
  {
   "cell_type": "code",
   "execution_count": 12,
   "metadata": {},
   "outputs": [
    {
     "data": {
      "text/html": [
       "<div>\n",
       "<style scoped>\n",
       "    .dataframe tbody tr th:only-of-type {\n",
       "        vertical-align: middle;\n",
       "    }\n",
       "\n",
       "    .dataframe tbody tr th {\n",
       "        vertical-align: top;\n",
       "    }\n",
       "\n",
       "    .dataframe thead th {\n",
       "        text-align: right;\n",
       "    }\n",
       "</style>\n",
       "<table border=\"1\" class=\"dataframe\">\n",
       "  <thead>\n",
       "    <tr style=\"text-align: right;\">\n",
       "      <th></th>\n",
       "      <th>Instrument</th>\n",
       "      <th>Portfolio Name</th>\n",
       "      <th>Issuer Name</th>\n",
       "      <th>Portfolio Shares</th>\n",
       "      <th>Asset Category Description</th>\n",
       "      <th>Primary CDS RIC</th>\n",
       "    </tr>\n",
       "  </thead>\n",
       "  <tbody>\n",
       "    <tr>\n",
       "      <th>5</th>\n",
       "      <td>MAERSKb.CO</td>\n",
       "      <td>EUROPE DEVELOPED WITH FIXED INC</td>\n",
       "      <td>AP MOELLER - MAERSK A/S</td>\n",
       "      <td>1700.0</td>\n",
       "      <td>Ordinary Share</td>\n",
       "      <td>MAER5YEUAM=R</td>\n",
       "    </tr>\n",
       "    <tr>\n",
       "      <th>9</th>\n",
       "      <td>CAPP.PA</td>\n",
       "      <td>EUROPE DEVELOPED WITH FIXED INC</td>\n",
       "      <td>CAPGEMINI SE</td>\n",
       "      <td>125200.0</td>\n",
       "      <td>Ordinary Share</td>\n",
       "      <td>CPGM5YEUAM=R</td>\n",
       "    </tr>\n",
       "    <tr>\n",
       "      <th>10</th>\n",
       "      <td>PERP.PA</td>\n",
       "      <td>EUROPE DEVELOPED WITH FIXED INC</td>\n",
       "      <td>PERNOD RICARD SA</td>\n",
       "      <td>207500.0</td>\n",
       "      <td>Ordinary Share</td>\n",
       "      <td>PERP5YEUAM=R</td>\n",
       "    </tr>\n",
       "    <tr>\n",
       "      <th>11</th>\n",
       "      <td>PRTP.PA</td>\n",
       "      <td>EUROPE DEVELOPED WITH FIXED INC</td>\n",
       "      <td>KERING SA</td>\n",
       "      <td>78500.0</td>\n",
       "      <td>Ordinary Share</td>\n",
       "      <td>PRTP5YEUAM=R</td>\n",
       "    </tr>\n",
       "    <tr>\n",
       "      <th>12</th>\n",
       "      <td>STM.PA</td>\n",
       "      <td>EUROPE DEVELOPED WITH FIXED INC</td>\n",
       "      <td>STMICROELECTRONICS NV</td>\n",
       "      <td>712200.0</td>\n",
       "      <td>Ordinary Share</td>\n",
       "      <td>STM5YEUAM=R</td>\n",
       "    </tr>\n",
       "    <tr>\n",
       "      <th>13</th>\n",
       "      <td>ALSO.PA</td>\n",
       "      <td>EUROPE DEVELOPED WITH FIXED INC</td>\n",
       "      <td>ALSTOM SA</td>\n",
       "      <td>241000.0</td>\n",
       "      <td>Ordinary Share</td>\n",
       "      <td>ALSO5YEUAM=R</td>\n",
       "    </tr>\n",
       "    <tr>\n",
       "      <th>14</th>\n",
       "      <td>ADSGn.DE</td>\n",
       "      <td>EUROPE DEVELOPED WITH FIXED INC</td>\n",
       "      <td>ADIDAS AG</td>\n",
       "      <td>163600.0</td>\n",
       "      <td>Ordinary Share</td>\n",
       "      <td>ADSG5YEUAM=R</td>\n",
       "    </tr>\n",
       "    <tr>\n",
       "      <th>15</th>\n",
       "      <td>DBKGn.DE</td>\n",
       "      <td>EUROPE DEVELOPED WITH FIXED INC</td>\n",
       "      <td>DEUTSCHE BANK AG</td>\n",
       "      <td>797400.0</td>\n",
       "      <td>Ordinary Share</td>\n",
       "      <td>DB5YEUAM=R</td>\n",
       "    </tr>\n",
       "    <tr>\n",
       "      <th>16</th>\n",
       "      <td>MRCG.DE</td>\n",
       "      <td>EUROPE DEVELOPED WITH FIXED INC</td>\n",
       "      <td>MERCK KGAA</td>\n",
       "      <td>50500.0</td>\n",
       "      <td>Ordinary Share</td>\n",
       "      <td>MRCG5YEUAM=R</td>\n",
       "    </tr>\n",
       "    <tr>\n",
       "      <th>20</th>\n",
       "      <td>STLAM.MI</td>\n",
       "      <td>EUROPE DEVELOPED WITH FIXED INC</td>\n",
       "      <td>STELLANTIS NV</td>\n",
       "      <td>940300.0</td>\n",
       "      <td>Ordinary Share</td>\n",
       "      <td>FCAU5YEUAM=R</td>\n",
       "    </tr>\n",
       "  </tbody>\n",
       "</table>\n",
       "</div>"
      ],
      "text/plain": [
       "    Instrument                   Portfolio Name              Issuer Name  \\\n",
       "5   MAERSKb.CO  EUROPE DEVELOPED WITH FIXED INC  AP MOELLER - MAERSK A/S   \n",
       "9      CAPP.PA  EUROPE DEVELOPED WITH FIXED INC             CAPGEMINI SE   \n",
       "10     PERP.PA  EUROPE DEVELOPED WITH FIXED INC         PERNOD RICARD SA   \n",
       "11     PRTP.PA  EUROPE DEVELOPED WITH FIXED INC                KERING SA   \n",
       "12      STM.PA  EUROPE DEVELOPED WITH FIXED INC    STMICROELECTRONICS NV   \n",
       "13     ALSO.PA  EUROPE DEVELOPED WITH FIXED INC                ALSTOM SA   \n",
       "14    ADSGn.DE  EUROPE DEVELOPED WITH FIXED INC                ADIDAS AG   \n",
       "15    DBKGn.DE  EUROPE DEVELOPED WITH FIXED INC         DEUTSCHE BANK AG   \n",
       "16     MRCG.DE  EUROPE DEVELOPED WITH FIXED INC               MERCK KGAA   \n",
       "20    STLAM.MI  EUROPE DEVELOPED WITH FIXED INC            STELLANTIS NV   \n",
       "\n",
       "    Portfolio Shares Asset Category Description Primary CDS RIC  \n",
       "5             1700.0             Ordinary Share    MAER5YEUAM=R  \n",
       "9           125200.0             Ordinary Share    CPGM5YEUAM=R  \n",
       "10          207500.0             Ordinary Share    PERP5YEUAM=R  \n",
       "11           78500.0             Ordinary Share    PRTP5YEUAM=R  \n",
       "12          712200.0             Ordinary Share     STM5YEUAM=R  \n",
       "13          241000.0             Ordinary Share    ALSO5YEUAM=R  \n",
       "14          163600.0             Ordinary Share    ADSG5YEUAM=R  \n",
       "15          797400.0             Ordinary Share      DB5YEUAM=R  \n",
       "16           50500.0             Ordinary Share    MRCG5YEUAM=R  \n",
       "20          940300.0             Ordinary Share    FCAU5YEUAM=R  "
      ]
     },
     "execution_count": 12,
     "metadata": {},
     "output_type": "execute_result"
    }
   ],
   "source": [
    "# The results will only contain entries where we have populated data\n",
    "df.head(10)"
   ]
  },
  {
   "cell_type": "markdown",
   "metadata": {},
   "source": [
    "If you pay attention to the left column value, which represents an index into the table, you can get a sense of specific rows we filtered out."
   ]
  },
  {
   "cell_type": "markdown",
   "metadata": {
    "tags": []
   },
   "source": [
    "### Return only price data for bonds?\n",
    "As a final step to data cleansing, we can optionally choose to process only bonds within our portfolio.  The following UI prompt is a simple way to filter out all positions that are not classified as a bond."
   ]
  },
  {
   "cell_type": "code",
   "execution_count": 13,
   "metadata": {},
   "outputs": [
    {
     "data": {
      "application/vnd.jupyter.widget-view+json": {
       "model_id": "532cead9186942e6955428fdc7340612",
       "version_major": 2,
       "version_minor": 0
      },
      "text/plain": [
       "Checkbox(label='Check to retrieve bonds only', tooltip='')"
      ]
     },
     "metadata": {},
     "output_type": "display_data"
    }
   ],
   "source": [
    "# The final, cleansed data will live within a container called 'assets'\n",
    "assets = df\n",
    "bonds = Checkbox(label='Check to retrieve bonds only')\n",
    "bonds"
   ]
  },
  {
   "cell_type": "code",
   "execution_count": 14,
   "metadata": {},
   "outputs": [],
   "source": [
    "if bonds.checked:\n",
    "    assets = assets[assets[ASSET_CATEGORY_COL].str.contains('Bond')].copy()"
   ]
  },
  {
   "cell_type": "code",
   "execution_count": 15,
   "metadata": {},
   "outputs": [
    {
     "data": {
      "text/html": [
       "<div>\n",
       "<style scoped>\n",
       "    .dataframe tbody tr th:only-of-type {\n",
       "        vertical-align: middle;\n",
       "    }\n",
       "\n",
       "    .dataframe tbody tr th {\n",
       "        vertical-align: top;\n",
       "    }\n",
       "\n",
       "    .dataframe thead th {\n",
       "        text-align: right;\n",
       "    }\n",
       "</style>\n",
       "<table border=\"1\" class=\"dataframe\">\n",
       "  <thead>\n",
       "    <tr style=\"text-align: right;\">\n",
       "      <th></th>\n",
       "      <th>Instrument</th>\n",
       "      <th>Portfolio Name</th>\n",
       "      <th>Issuer Name</th>\n",
       "      <th>Portfolio Shares</th>\n",
       "      <th>Asset Category Description</th>\n",
       "      <th>Primary CDS RIC</th>\n",
       "    </tr>\n",
       "  </thead>\n",
       "  <tbody>\n",
       "    <tr>\n",
       "      <th>5</th>\n",
       "      <td>MAERSKb.CO</td>\n",
       "      <td>EUROPE DEVELOPED WITH FIXED INC</td>\n",
       "      <td>AP MOELLER - MAERSK A/S</td>\n",
       "      <td>1700.0</td>\n",
       "      <td>Ordinary Share</td>\n",
       "      <td>MAER5YEUAM=R</td>\n",
       "    </tr>\n",
       "    <tr>\n",
       "      <th>9</th>\n",
       "      <td>CAPP.PA</td>\n",
       "      <td>EUROPE DEVELOPED WITH FIXED INC</td>\n",
       "      <td>CAPGEMINI SE</td>\n",
       "      <td>125200.0</td>\n",
       "      <td>Ordinary Share</td>\n",
       "      <td>CPGM5YEUAM=R</td>\n",
       "    </tr>\n",
       "    <tr>\n",
       "      <th>10</th>\n",
       "      <td>PERP.PA</td>\n",
       "      <td>EUROPE DEVELOPED WITH FIXED INC</td>\n",
       "      <td>PERNOD RICARD SA</td>\n",
       "      <td>207500.0</td>\n",
       "      <td>Ordinary Share</td>\n",
       "      <td>PERP5YEUAM=R</td>\n",
       "    </tr>\n",
       "    <tr>\n",
       "      <th>11</th>\n",
       "      <td>PRTP.PA</td>\n",
       "      <td>EUROPE DEVELOPED WITH FIXED INC</td>\n",
       "      <td>KERING SA</td>\n",
       "      <td>78500.0</td>\n",
       "      <td>Ordinary Share</td>\n",
       "      <td>PRTP5YEUAM=R</td>\n",
       "    </tr>\n",
       "    <tr>\n",
       "      <th>12</th>\n",
       "      <td>STM.PA</td>\n",
       "      <td>EUROPE DEVELOPED WITH FIXED INC</td>\n",
       "      <td>STMICROELECTRONICS NV</td>\n",
       "      <td>712200.0</td>\n",
       "      <td>Ordinary Share</td>\n",
       "      <td>STM5YEUAM=R</td>\n",
       "    </tr>\n",
       "    <tr>\n",
       "      <th>...</th>\n",
       "      <td>...</td>\n",
       "      <td>...</td>\n",
       "      <td>...</td>\n",
       "      <td>...</td>\n",
       "      <td>...</td>\n",
       "      <td>...</td>\n",
       "    </tr>\n",
       "    <tr>\n",
       "      <th>149</th>\n",
       "      <td>CNHI.MI</td>\n",
       "      <td>EUROPE DEVELOPED WITH FIXED INC</td>\n",
       "      <td>CNH INDUSTRIAL NV</td>\n",
       "      <td>1055000.0</td>\n",
       "      <td>Ordinary Share</td>\n",
       "      <td>CNHI5YEUAM=R</td>\n",
       "    </tr>\n",
       "    <tr>\n",
       "      <th>150</th>\n",
       "      <td>ES0000124H=RRPS</td>\n",
       "      <td>EUROPE DEVELOPED WITH FIXED INC</td>\n",
       "      <td>SPAIN, KINGDOM OF (GOVERNMENT)</td>\n",
       "      <td>500.0</td>\n",
       "      <td>Bond</td>\n",
       "      <td>ESGV5YUSAC=R</td>\n",
       "    </tr>\n",
       "    <tr>\n",
       "      <th>151</th>\n",
       "      <td>IT496671=RRPS</td>\n",
       "      <td>EUROPE DEVELOPED WITH FIXED INC</td>\n",
       "      <td>MEDIOBANCA BANCA DI CREDITO FINANZIARIO SPA</td>\n",
       "      <td>500.0</td>\n",
       "      <td>Bond</td>\n",
       "      <td>MDBI5YEUAM=R</td>\n",
       "    </tr>\n",
       "    <tr>\n",
       "      <th>154</th>\n",
       "      <td>DECZ40J2=RRPS</td>\n",
       "      <td>EUROPE DEVELOPED WITH FIXED INC</td>\n",
       "      <td>COMMERZBANK AG</td>\n",
       "      <td>500.0</td>\n",
       "      <td>Bond</td>\n",
       "      <td>CBKG5YEUAM=R</td>\n",
       "    </tr>\n",
       "    <tr>\n",
       "      <th>158</th>\n",
       "      <td>CLNX.MC</td>\n",
       "      <td>EUROPE DEVELOPED WITH FIXED INC</td>\n",
       "      <td>CELLNEX TELECOM SA</td>\n",
       "      <td>233600.0</td>\n",
       "      <td>Ordinary Share</td>\n",
       "      <td>CLNA5YEUAM=R</td>\n",
       "    </tr>\n",
       "  </tbody>\n",
       "</table>\n",
       "<p>73 rows × 6 columns</p>\n",
       "</div>"
      ],
      "text/plain": [
       "          Instrument                   Portfolio Name  \\\n",
       "5         MAERSKb.CO  EUROPE DEVELOPED WITH FIXED INC   \n",
       "9            CAPP.PA  EUROPE DEVELOPED WITH FIXED INC   \n",
       "10           PERP.PA  EUROPE DEVELOPED WITH FIXED INC   \n",
       "11           PRTP.PA  EUROPE DEVELOPED WITH FIXED INC   \n",
       "12            STM.PA  EUROPE DEVELOPED WITH FIXED INC   \n",
       "..               ...                              ...   \n",
       "149          CNHI.MI  EUROPE DEVELOPED WITH FIXED INC   \n",
       "150  ES0000124H=RRPS  EUROPE DEVELOPED WITH FIXED INC   \n",
       "151    IT496671=RRPS  EUROPE DEVELOPED WITH FIXED INC   \n",
       "154    DECZ40J2=RRPS  EUROPE DEVELOPED WITH FIXED INC   \n",
       "158          CLNX.MC  EUROPE DEVELOPED WITH FIXED INC   \n",
       "\n",
       "                                     Issuer Name  Portfolio Shares  \\\n",
       "5                        AP MOELLER - MAERSK A/S            1700.0   \n",
       "9                                   CAPGEMINI SE          125200.0   \n",
       "10                              PERNOD RICARD SA          207500.0   \n",
       "11                                     KERING SA           78500.0   \n",
       "12                         STMICROELECTRONICS NV          712200.0   \n",
       "..                                           ...               ...   \n",
       "149                            CNH INDUSTRIAL NV         1055000.0   \n",
       "150               SPAIN, KINGDOM OF (GOVERNMENT)             500.0   \n",
       "151  MEDIOBANCA BANCA DI CREDITO FINANZIARIO SPA             500.0   \n",
       "154                               COMMERZBANK AG             500.0   \n",
       "158                           CELLNEX TELECOM SA          233600.0   \n",
       "\n",
       "    Asset Category Description Primary CDS RIC  \n",
       "5               Ordinary Share    MAER5YEUAM=R  \n",
       "9               Ordinary Share    CPGM5YEUAM=R  \n",
       "10              Ordinary Share    PERP5YEUAM=R  \n",
       "11              Ordinary Share    PRTP5YEUAM=R  \n",
       "12              Ordinary Share     STM5YEUAM=R  \n",
       "..                         ...             ...  \n",
       "149             Ordinary Share    CNHI5YEUAM=R  \n",
       "150                       Bond    ESGV5YUSAC=R  \n",
       "151                       Bond    MDBI5YEUAM=R  \n",
       "154                       Bond    CBKG5YEUAM=R  \n",
       "158             Ordinary Share    CLNA5YEUAM=R  \n",
       "\n",
       "[73 rows x 6 columns]"
      ]
     },
     "execution_count": 15,
     "metadata": {},
     "output_type": "execute_result"
    }
   ],
   "source": [
    "assets"
   ]
  },
  {
   "cell_type": "markdown",
   "metadata": {},
   "source": [
    "### Price Data\n",
    "At this step, we want to retrieve the snapshot price for all the Primary CDS RICs. This is the key step within our workflow as this value represents the price of the CDS instrument that we'll asses as the credit risk value. Refinitiv allows us to retrieve snapshot data for a list of instruments up to <b>MAX_ITEMS_PER_REQUEST</b> size. In that case, we must split the list of instruments into manageable chunks. After retrieving the snapshot data of each chunk, we'll merge the prices within our the original filtered portfolio."
   ]
  },
  {
   "cell_type": "code",
   "execution_count": 16,
   "metadata": {
    "tags": []
   },
   "outputs": [],
   "source": [
    "# split a list into 'nbItems' chunks\n",
    "def split_list_into_chunks(rics, nbItems):\n",
    "    n = max(1, nbItems)\n",
    "    return (rics[i:i+n] for i in range(0, len(rics), n))"
   ]
  },
  {
   "cell_type": "code",
   "execution_count": 17,
   "metadata": {},
   "outputs": [],
   "source": [
    "# In the case our universe of RICs is very large, we'll capture the universe within manageable chunks\n",
    "rics = list(assets[PRIMARY_CDS_RIC_COL])\n",
    "rics_cnt = len(rics)\n",
    "cds_5Y_rics_batch = split_list_into_chunks(rics, MAX_ITEMS_PER_REQUEST)"
   ]
  },
  {
   "cell_type": "code",
   "execution_count": 18,
   "metadata": {},
   "outputs": [
    {
     "data": {
      "application/vnd.jupyter.widget-view+json": {
       "model_id": "0b2712d4b1be47dca4012dc6decd54f6",
       "version_major": 2,
       "version_minor": 0
      },
      "text/plain": [
       "ProgressBar(color='green', tooltip='')"
      ]
     },
     "metadata": {},
     "output_type": "display_data"
    },
    {
     "name": "stdout",
     "output_type": "stream",
     "text": [
      "Processing at total of 73 positions...\n",
      "Done\n"
     ]
    }
   ],
   "source": [
    "# Request for the pricing data for each item within our batch\n",
    "#\n",
    "# Note: The batch (cds_5Y_rics_batch), is a special type that returns an iterator. Once iterated, \n",
    "#       the variable has completed.  That is, you will not be able to run through the batch again.\n",
    "#       If yhou wish to iterate again, you will have generate the value again by executing the \n",
    "#       cell above.\n",
    "cds_5y_prices_df = pd.DataFrame()\n",
    "\n",
    "# Simple progress bar\n",
    "pb = ProgressBar(value=0, color=\"green\")\n",
    "display(pb)\n",
    "print(f\"Processing at total of {rics_cnt} positions...\")\n",
    "\n",
    "for items in cds_5Y_rics_batch:\n",
    "    pb.value += int(min(MAX_ITEMS_PER_REQUEST, len(items))/rics_cnt * 100)  # Progress bar increment\n",
    "    res = rd.get_data(universe = items, fields = [HISTORICAL_CLOSE])\n",
    "    cds_5y_prices_df = cds_5y_prices_df.append(res, ignore_index=True)\n",
    "print(\"Done\")"
   ]
  },
  {
   "cell_type": "code",
   "execution_count": 19,
   "metadata": {},
   "outputs": [
    {
     "data": {
      "text/html": [
       "<div>\n",
       "<style scoped>\n",
       "    .dataframe tbody tr th:only-of-type {\n",
       "        vertical-align: middle;\n",
       "    }\n",
       "\n",
       "    .dataframe tbody tr th {\n",
       "        vertical-align: top;\n",
       "    }\n",
       "\n",
       "    .dataframe thead th {\n",
       "        text-align: right;\n",
       "    }\n",
       "</style>\n",
       "<table border=\"1\" class=\"dataframe\">\n",
       "  <thead>\n",
       "    <tr style=\"text-align: right;\">\n",
       "      <th></th>\n",
       "      <th>Instrument</th>\n",
       "      <th>HST_CLOSE</th>\n",
       "    </tr>\n",
       "  </thead>\n",
       "  <tbody>\n",
       "    <tr>\n",
       "      <th>0</th>\n",
       "      <td>MAER5YEUAM=R</td>\n",
       "      <td>91.5</td>\n",
       "    </tr>\n",
       "    <tr>\n",
       "      <th>1</th>\n",
       "      <td>CPGM5YEUAM=R</td>\n",
       "      <td>64.28</td>\n",
       "    </tr>\n",
       "    <tr>\n",
       "      <th>2</th>\n",
       "      <td>PERP5YEUAM=R</td>\n",
       "      <td>32.23</td>\n",
       "    </tr>\n",
       "    <tr>\n",
       "      <th>3</th>\n",
       "      <td>PRTP5YEUAM=R</td>\n",
       "      <td>37.24</td>\n",
       "    </tr>\n",
       "    <tr>\n",
       "      <th>4</th>\n",
       "      <td>STM5YEUAM=R</td>\n",
       "      <td>38.74</td>\n",
       "    </tr>\n",
       "    <tr>\n",
       "      <th>5</th>\n",
       "      <td>ALSO5YEUAM=R</td>\n",
       "      <td>127.58</td>\n",
       "    </tr>\n",
       "    <tr>\n",
       "      <th>6</th>\n",
       "      <td>ADSG5YEUAM=R</td>\n",
       "      <td>39.2</td>\n",
       "    </tr>\n",
       "    <tr>\n",
       "      <th>7</th>\n",
       "      <td>DB5YEUAM=R</td>\n",
       "      <td>85.08</td>\n",
       "    </tr>\n",
       "    <tr>\n",
       "      <th>8</th>\n",
       "      <td>MRCG5YEUAM=R</td>\n",
       "      <td>39.62</td>\n",
       "    </tr>\n",
       "    <tr>\n",
       "      <th>9</th>\n",
       "      <td>FCAU5YEUAM=R</td>\n",
       "      <td>126.75</td>\n",
       "    </tr>\n",
       "  </tbody>\n",
       "</table>\n",
       "</div>"
      ],
      "text/plain": [
       "     Instrument  HST_CLOSE\n",
       "0  MAER5YEUAM=R       91.5\n",
       "1  CPGM5YEUAM=R      64.28\n",
       "2  PERP5YEUAM=R      32.23\n",
       "3  PRTP5YEUAM=R      37.24\n",
       "4   STM5YEUAM=R      38.74\n",
       "5  ALSO5YEUAM=R     127.58\n",
       "6  ADSG5YEUAM=R       39.2\n",
       "7    DB5YEUAM=R      85.08\n",
       "8  MRCG5YEUAM=R      39.62\n",
       "9  FCAU5YEUAM=R     126.75"
      ]
     },
     "execution_count": 19,
     "metadata": {},
     "output_type": "execute_result"
    }
   ],
   "source": [
    "# Display the price data for each constituent within the portfolio\n",
    "cds_5y_prices_df.head(10)"
   ]
  },
  {
   "cell_type": "markdown",
   "metadata": {
    "tags": []
   },
   "source": [
    "### Merge Data\n",
    "The final step is to merge the price data within the porfolio.  In some cases, we may not have price data available for our consituents and will also filter out those unwanted values."
   ]
  },
  {
   "cell_type": "code",
   "execution_count": 20,
   "metadata": {},
   "outputs": [],
   "source": [
    "# Merge the initial dataframe with the realtime values\n",
    "assets[CLOSE_PRICE_COL] = cds_5y_prices_df[HISTORICAL_CLOSE].to_list()\n",
    "\n",
    "# Clean out any missing values\n",
    "result = assets.dropna(subset=[CLOSE_PRICE_COL])"
   ]
  },
  {
   "cell_type": "code",
   "execution_count": 21,
   "metadata": {},
   "outputs": [
    {
     "data": {
      "text/html": [
       "<div>\n",
       "<style scoped>\n",
       "    .dataframe tbody tr th:only-of-type {\n",
       "        vertical-align: middle;\n",
       "    }\n",
       "\n",
       "    .dataframe tbody tr th {\n",
       "        vertical-align: top;\n",
       "    }\n",
       "\n",
       "    .dataframe thead th {\n",
       "        text-align: right;\n",
       "    }\n",
       "</style>\n",
       "<table border=\"1\" class=\"dataframe\">\n",
       "  <thead>\n",
       "    <tr style=\"text-align: right;\">\n",
       "      <th></th>\n",
       "      <th>Instrument</th>\n",
       "      <th>Portfolio Name</th>\n",
       "      <th>Issuer Name</th>\n",
       "      <th>Portfolio Shares</th>\n",
       "      <th>Asset Category Description</th>\n",
       "      <th>Primary CDS RIC</th>\n",
       "      <th>Close Price</th>\n",
       "    </tr>\n",
       "  </thead>\n",
       "  <tbody>\n",
       "    <tr>\n",
       "      <th>5</th>\n",
       "      <td>MAERSKb.CO</td>\n",
       "      <td>EUROPE DEVELOPED WITH FIXED INC</td>\n",
       "      <td>AP MOELLER - MAERSK A/S</td>\n",
       "      <td>1700.0</td>\n",
       "      <td>Ordinary Share</td>\n",
       "      <td>MAER5YEUAM=R</td>\n",
       "      <td>91.5</td>\n",
       "    </tr>\n",
       "    <tr>\n",
       "      <th>9</th>\n",
       "      <td>CAPP.PA</td>\n",
       "      <td>EUROPE DEVELOPED WITH FIXED INC</td>\n",
       "      <td>CAPGEMINI SE</td>\n",
       "      <td>125200.0</td>\n",
       "      <td>Ordinary Share</td>\n",
       "      <td>CPGM5YEUAM=R</td>\n",
       "      <td>64.28</td>\n",
       "    </tr>\n",
       "    <tr>\n",
       "      <th>10</th>\n",
       "      <td>PERP.PA</td>\n",
       "      <td>EUROPE DEVELOPED WITH FIXED INC</td>\n",
       "      <td>PERNOD RICARD SA</td>\n",
       "      <td>207500.0</td>\n",
       "      <td>Ordinary Share</td>\n",
       "      <td>PERP5YEUAM=R</td>\n",
       "      <td>32.23</td>\n",
       "    </tr>\n",
       "    <tr>\n",
       "      <th>11</th>\n",
       "      <td>PRTP.PA</td>\n",
       "      <td>EUROPE DEVELOPED WITH FIXED INC</td>\n",
       "      <td>KERING SA</td>\n",
       "      <td>78500.0</td>\n",
       "      <td>Ordinary Share</td>\n",
       "      <td>PRTP5YEUAM=R</td>\n",
       "      <td>37.24</td>\n",
       "    </tr>\n",
       "    <tr>\n",
       "      <th>12</th>\n",
       "      <td>STM.PA</td>\n",
       "      <td>EUROPE DEVELOPED WITH FIXED INC</td>\n",
       "      <td>STMICROELECTRONICS NV</td>\n",
       "      <td>712200.0</td>\n",
       "      <td>Ordinary Share</td>\n",
       "      <td>STM5YEUAM=R</td>\n",
       "      <td>38.74</td>\n",
       "    </tr>\n",
       "    <tr>\n",
       "      <th>13</th>\n",
       "      <td>ALSO.PA</td>\n",
       "      <td>EUROPE DEVELOPED WITH FIXED INC</td>\n",
       "      <td>ALSTOM SA</td>\n",
       "      <td>241000.0</td>\n",
       "      <td>Ordinary Share</td>\n",
       "      <td>ALSO5YEUAM=R</td>\n",
       "      <td>127.58</td>\n",
       "    </tr>\n",
       "    <tr>\n",
       "      <th>14</th>\n",
       "      <td>ADSGn.DE</td>\n",
       "      <td>EUROPE DEVELOPED WITH FIXED INC</td>\n",
       "      <td>ADIDAS AG</td>\n",
       "      <td>163600.0</td>\n",
       "      <td>Ordinary Share</td>\n",
       "      <td>ADSG5YEUAM=R</td>\n",
       "      <td>39.2</td>\n",
       "    </tr>\n",
       "    <tr>\n",
       "      <th>15</th>\n",
       "      <td>DBKGn.DE</td>\n",
       "      <td>EUROPE DEVELOPED WITH FIXED INC</td>\n",
       "      <td>DEUTSCHE BANK AG</td>\n",
       "      <td>797400.0</td>\n",
       "      <td>Ordinary Share</td>\n",
       "      <td>DB5YEUAM=R</td>\n",
       "      <td>85.08</td>\n",
       "    </tr>\n",
       "    <tr>\n",
       "      <th>16</th>\n",
       "      <td>MRCG.DE</td>\n",
       "      <td>EUROPE DEVELOPED WITH FIXED INC</td>\n",
       "      <td>MERCK KGAA</td>\n",
       "      <td>50500.0</td>\n",
       "      <td>Ordinary Share</td>\n",
       "      <td>MRCG5YEUAM=R</td>\n",
       "      <td>39.62</td>\n",
       "    </tr>\n",
       "    <tr>\n",
       "      <th>20</th>\n",
       "      <td>STLAM.MI</td>\n",
       "      <td>EUROPE DEVELOPED WITH FIXED INC</td>\n",
       "      <td>STELLANTIS NV</td>\n",
       "      <td>940300.0</td>\n",
       "      <td>Ordinary Share</td>\n",
       "      <td>FCAU5YEUAM=R</td>\n",
       "      <td>126.75</td>\n",
       "    </tr>\n",
       "  </tbody>\n",
       "</table>\n",
       "</div>"
      ],
      "text/plain": [
       "    Instrument                   Portfolio Name              Issuer Name  \\\n",
       "5   MAERSKb.CO  EUROPE DEVELOPED WITH FIXED INC  AP MOELLER - MAERSK A/S   \n",
       "9      CAPP.PA  EUROPE DEVELOPED WITH FIXED INC             CAPGEMINI SE   \n",
       "10     PERP.PA  EUROPE DEVELOPED WITH FIXED INC         PERNOD RICARD SA   \n",
       "11     PRTP.PA  EUROPE DEVELOPED WITH FIXED INC                KERING SA   \n",
       "12      STM.PA  EUROPE DEVELOPED WITH FIXED INC    STMICROELECTRONICS NV   \n",
       "13     ALSO.PA  EUROPE DEVELOPED WITH FIXED INC                ALSTOM SA   \n",
       "14    ADSGn.DE  EUROPE DEVELOPED WITH FIXED INC                ADIDAS AG   \n",
       "15    DBKGn.DE  EUROPE DEVELOPED WITH FIXED INC         DEUTSCHE BANK AG   \n",
       "16     MRCG.DE  EUROPE DEVELOPED WITH FIXED INC               MERCK KGAA   \n",
       "20    STLAM.MI  EUROPE DEVELOPED WITH FIXED INC            STELLANTIS NV   \n",
       "\n",
       "    Portfolio Shares Asset Category Description Primary CDS RIC Close Price  \n",
       "5             1700.0             Ordinary Share    MAER5YEUAM=R        91.5  \n",
       "9           125200.0             Ordinary Share    CPGM5YEUAM=R       64.28  \n",
       "10          207500.0             Ordinary Share    PERP5YEUAM=R       32.23  \n",
       "11           78500.0             Ordinary Share    PRTP5YEUAM=R       37.24  \n",
       "12          712200.0             Ordinary Share     STM5YEUAM=R       38.74  \n",
       "13          241000.0             Ordinary Share    ALSO5YEUAM=R      127.58  \n",
       "14          163600.0             Ordinary Share    ADSG5YEUAM=R        39.2  \n",
       "15          797400.0             Ordinary Share      DB5YEUAM=R       85.08  \n",
       "16           50500.0             Ordinary Share    MRCG5YEUAM=R       39.62  \n",
       "20          940300.0             Ordinary Share    FCAU5YEUAM=R      126.75  "
      ]
     },
     "execution_count": 21,
     "metadata": {},
     "output_type": "execute_result"
    }
   ],
   "source": [
    "result.head(10)"
   ]
  },
  {
   "cell_type": "markdown",
   "metadata": {},
   "source": [
    "### Analysis\n",
    "Now that we have successfully cleaned and priced the CDS 5Y positions, we can now use this value to derive our credit risk.  That is, the 'Close Price' value is by definition a financial derivative that allows an investor to swap or offset their credit risk with that of another investor.  With this data, it may be desirable to export the results within a simple spreadsheet for further analysis.  We perform this task next."
   ]
  },
  {
   "cell_type": "markdown",
   "metadata": {
    "tags": []
   },
   "source": [
    "### Export to excel\n",
    "\n",
    "Export the result to excel for future usage."
   ]
  },
  {
   "cell_type": "code",
   "execution_count": 22,
   "metadata": {},
   "outputs": [],
   "source": [
    "filename = f\"Credit_Risk_{portfolio_id}.csv\"\n",
    "result.to_csv(filename)"
   ]
  },
  {
   "cell_type": "code",
   "execution_count": 23,
   "metadata": {},
   "outputs": [],
   "source": [
    "# export to excel\n",
    "filename = f\"Credit_Risk_{portfolio_id}.xlsx\"\n",
    "result.to_excel(filename)"
   ]
  },
  {
   "cell_type": "markdown",
   "metadata": {},
   "source": [
    "## Conclusion\n",
    "While the strengths of the PAL - Portfolio & List Manager within the desktop are extremely powerful, we may come across scenarios where we need to extend the capabilities of what is available.  By coupling the features of PAL and the Refinitiv Data Libraries, we can easily extract the required CDS 5Y price values for a given portfolio.  By retrieving the CDS 5Y price, we can assess the credit risk exposure of the portfolio."
   ]
  },
  {
   "cell_type": "code",
   "execution_count": null,
   "metadata": {},
   "outputs": [],
   "source": []
  }
 ],
 "metadata": {
  "kernelspec": {
   "display_name": "Python 3",
   "language": "python",
   "name": "python3"
  },
  "language_info": {
   "codemirror_mode": {
    "name": "ipython",
    "version": 3
   },
   "file_extension": ".py",
   "mimetype": "text/x-python",
   "name": "python",
   "nbconvert_exporter": "python",
   "pygments_lexer": "ipython3",
   "version": "3.8.15"
  },
  "widgets": {
   "application/vnd.jupyter.widget-state+json": {
    "state": {
     "0b2712d4b1be47dca4012dc6decd54f6": {
      "model_module": "refinitiv-widgets",
      "model_module_version": "3.2.1",
      "model_name": "RefinitivProgressBarModel",
      "state": {
       "_widget_selector": "[data-selector='0b2712d4b1be47dca4012dc6decd54f6']",
       "alignment": "",
       "color": "green",
       "label": "",
       "layout": "IPY_MODEL_ee90c9b7917642aaaa19d3c6ced3ff39",
       "tooltip": "",
       "value": 100
      }
     },
     "532cead9186942e6955428fdc7340612": {
      "model_module": "refinitiv-widgets",
      "model_module_version": "3.2.1",
      "model_name": "RefinitivCheckboxModel",
      "state": {
       "_widget_selector": "[data-selector='532cead9186942e6955428fdc7340612']",
       "color": "",
       "css": "",
       "label": "Check to retrieve bonds only",
       "layout": "IPY_MODEL_f2e4bebf9a30485a8cdfbcd5fa97034b",
       "tooltip": ""
      }
     },
     "ee90c9b7917642aaaa19d3c6ced3ff39": {
      "model_module": "@jupyter-widgets/base",
      "model_module_version": "1.2.0",
      "model_name": "LayoutModel",
      "state": {}
     },
     "f2e4bebf9a30485a8cdfbcd5fa97034b": {
      "model_module": "@jupyter-widgets/base",
      "model_module_version": "1.2.0",
      "model_name": "LayoutModel",
      "state": {}
     }
    },
    "version_major": 2,
    "version_minor": 0
   }
  }
 },
 "nbformat": 4,
 "nbformat_minor": 4
}
